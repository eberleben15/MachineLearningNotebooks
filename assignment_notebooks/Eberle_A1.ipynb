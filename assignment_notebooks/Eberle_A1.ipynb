{
 "cells": [
  {
   "cell_type": "markdown",
   "metadata": {},
   "source": [
    "# A1.1 Linear Regression with SGD"
   ]
  },
  {
   "cell_type": "markdown",
   "metadata": {},
   "source": [
    "* A1.1: *Added preliminary grading script in last cells of notebook.*"
   ]
  },
  {
   "cell_type": "markdown",
   "metadata": {},
   "source": [
    "In this assignment, you will implement three functions `train`, `use`, and `rmse` and apply them to some weather data.\n",
    "Here are the specifications for these functions, which you must satisfy."
   ]
  },
  {
   "cell_type": "markdown",
   "metadata": {},
   "source": [
    "`model = train(X, T, learning_rate, n_epochs, verbose)`\n",
    "* `X`: is an $N$ x $D$ matrix of input data samples, one per row. $N$ is the number of samples and $D$ is the number of variable values in\n",
    "each sample.\n",
    "* `T`: is an $N$ x $K$ matrix of desired target values for each sample.  $K$ is the number of output values you want to predict for each sample.\n",
    "* `learning_rate`: is a scalar that controls the step size of each update to the weight values.\n",
    "* `n_epochs`: is the number of epochs, or passes, through all $N$ samples, to take while updating the weight values.\n",
    "* `verbose`: is True or False (default value) to control whether or not occasional text is printed to show the training progress.\n",
    "* `model`: is the returned value, which must be a dictionary with the keys `'w'`, `'Xmeans'`, `'Xstds'`, `'Tmeans'` and `'Tstds'`.\n",
    "\n",
    "`Y = use(X, model)`\n",
    "* `X`: is an $N$ x $D$ matrix of input data samples, one per row, for which you want to predict the target values.\n",
    "* `model`: is the dictionary returned by `train`.\n",
    "* `Y`: is the returned $N$ x $K$ matrix of predicted values, one for each sample in `X`.\n",
    "\n",
    "`result = rmse(Y, T)`\n",
    "* `Y`: is an $N$ x $K$ matrix of predictions produced by `use`.\n",
    "* `T`: is the $N$ x $K$ matrix of target values.\n",
    "* `result`: is a scalar calculated as the square root of the mean of the squared differences between each sample (row) in `Y` and `T`."
   ]
  },
  {
   "cell_type": "markdown",
   "metadata": {},
   "source": [
    "To get you started, here are the standard imports we need."
   ]
  },
  {
   "cell_type": "code",
   "execution_count": 1,
   "metadata": {
    "lines_to_next_cell": 1
   },
   "outputs": [],
   "source": [
    "import numpy as np\n",
    "import matplotlib.pyplot as plt\n",
    "import pandas"
   ]
  },
  {
   "cell_type": "markdown",
   "metadata": {},
   "source": [
    "## 60 points: 40 for train, 10 for use, 10 for rmse"
   ]
  },
  {
   "cell_type": "markdown",
   "metadata": {},
   "source": [
    "Now here is a start at defining the `train`, `use`, and `rmse`\n",
    "functions.  Fill in the correct code wherever you see `. . .` with\n",
    "one or more lines of code."
   ]
  },
  {
   "cell_type": "code",
   "execution_count": 2,
   "metadata": {
    "lines_to_next_cell": 1
   },
   "outputs": [],
   "source": [
    "def train(X, T, learning_rate, n_epochs, verbose=True):\n",
    "\n",
    "    # Calculate means and standard deviations of each column in X and T\n",
    "    Xmeans = np.mean(X, axis=0)\n",
    "    Xstds = np.std(X, axis=0)\n",
    "\n",
    "    Tmeans = np.mean(T, axis=0)\n",
    "    Tstds = np.std(T, axis=0)\n",
    "    \n",
    "    # Use the means and standard deviations to standardize X and T\n",
    "    # Insert the column of constant 1's as a new initial column in X\n",
    "    Xs1 = (X - Xmeans)/Xstds\n",
    "    Ts1 = (T - Tmeans)/Tstds\n",
    "    Xs1 = np.insert(Xs1, 0, 1, 1)\n",
    "    \n",
    "    # Initialize weights to be a numpy array of the correct shape and all zeros values.\n",
    "    n_samples, n_inputs = Xs1.shape\n",
    "    w = np.zeros((n_inputs, 1))\n",
    "\n",
    "    for epoch in range(n_epochs):\n",
    "        sqerror_sum = 0\n",
    "\n",
    "        for n in range(n_samples):\n",
    "\n",
    "            # Use current weight values to predict output for sample n, then\n",
    "            # calculate the error, and\n",
    "            # update the weight values.\n",
    "            y = Xs1[n:n + 1, :] @ w\n",
    "            error = Ts1[n:n + 1, :] - y\n",
    "            w += learning_rate * Xs1[n:n + 1, :].T * error\n",
    "            \n",
    "        # Add the squared error to sqerror_sum\n",
    "        sqerror_sum += error ** 2\n",
    "        \n",
    "        if verbose and (n_epochs < 11 or (epoch + 1) % (n_epochs // 10) == 0):\n",
    "            rmse = np.sqrt(sqerror_sum / n_samples)\n",
    "            rmse = rmse[0, 0]\n",
    "            print(f'Epoch {epoch + 1} RMSE {rmse:.2f}')\n",
    "    return {'w': w, 'Xmeans': Xmeans, 'Xstds': Xstds,\n",
    "            'Tmeans': Tmeans, 'Tstds': Tstds}"
   ]
  },
  {
   "cell_type": "code",
   "execution_count": 3,
   "metadata": {
    "lines_to_next_cell": 1
   },
   "outputs": [],
   "source": [
    "def use(X, model):\n",
    "    # Standardize X using Xmeans and Xstds in model\n",
    "    Xs1 = (X - model['Xmeans'])/model['Xstds']\n",
    "    Xs1 = np.insert(Xs1, 0, 1, axis=1)\n",
    "    # Predict output values using weights in model\n",
    "    predicted = Xs1 @ model['w']\n",
    "    # Unstandardize the predicted output values using Tmeans and Tstds in model\n",
    "    predicted = (predicted * model['Tstds']) + model['Tmeans']\n",
    "    # Return the unstandardized output values\n",
    "    return predicted"
   ]
  },
  {
   "cell_type": "code",
   "execution_count": 4,
   "metadata": {
    "lines_to_next_cell": 1
   },
   "outputs": [],
   "source": [
    "def rmse(A, B):\n",
    "    return np.sqrt( np.mean( (A - B)**2))"
   ]
  },
  {
   "cell_type": "markdown",
   "metadata": {},
   "source": [
    "Here is a simple example use of your functions to help you debug them.  Your functions must produce the same results."
   ]
  },
  {
   "cell_type": "code",
   "execution_count": 5,
   "metadata": {},
   "outputs": [
    {
     "data": {
      "text/plain": [
       "Text(0, 0.5, 'T')"
      ]
     },
     "execution_count": 5,
     "metadata": {},
     "output_type": "execute_result"
    },
    {
     "data": {
      "image/png": "[encoded data removed]",
      "text/plain": [
       "<Figure size 432x288 with 1 Axes>"
      ]
     },
     "metadata": {
      "needs_background": "light"
     },
     "output_type": "display_data"
    }
   ],
   "source": [
    "X = np.arange(0, 100).reshape(-1, 1)  # make X a 100 x 1 matrix\n",
    "T = 0.5 + 0.3 * X + 0.005 * (X - 50) ** 2\n",
    "plt.plot(X, T, '.')\n",
    "plt.xlabel('X')\n",
    "plt.ylabel('T')"
   ]
  },
  {
   "cell_type": "code",
   "execution_count": 6,
   "metadata": {},
   "outputs": [
    {
     "name": "stdout",
     "output_type": "stream",
     "text": [
      "Epoch 10 RMSE 0.14\n",
      "Epoch 20 RMSE 0.11\n",
      "Epoch 30 RMSE 0.09\n",
      "Epoch 40 RMSE 0.09\n",
      "Epoch 50 RMSE 0.09\n",
      "Epoch 60 RMSE 0.09\n",
      "Epoch 70 RMSE 0.09\n",
      "Epoch 80 RMSE 0.08\n",
      "Epoch 90 RMSE 0.08\n",
      "Epoch 100 RMSE 0.08\n"
     ]
    },
    {
     "data": {
      "text/plain": [
       "{'w': array([[1.07354058e-04],\n",
       "        [9.30158062e-01]]),\n",
       " 'Xmeans': array([49.5]),\n",
       " 'Xstds': array([28.86607005]),\n",
       " 'Tmeans': array([19.5175]),\n",
       " 'Tstds': array([9.29491938])}"
      ]
     },
     "execution_count": 6,
     "metadata": {},
     "output_type": "execute_result"
    }
   ],
   "source": [
    "model = train(X, T, 0.001, 100, verbose=True)\n",
    "model"
   ]
  },
  {
   "cell_type": "code",
   "execution_count": 7,
   "metadata": {},
   "outputs": [
    {
     "data": {
      "text/plain": [
       "<matplotlib.legend.Legend at 0x7ff00e48b220>"
      ]
     },
     "execution_count": 7,
     "metadata": {},
     "output_type": "execute_result"
    },
    {
     "data": {
      "image/png": "[encoded data removed]",
      "text/plain": [
       "<Figure size 432x288 with 1 Axes>"
      ]
     },
     "metadata": {
      "needs_background": "light"
     },
     "output_type": "display_data"
    }
   ],
   "source": [
    "Y = use(X, model)\n",
    "plt.plot(T, '.', label='T')\n",
    "plt.plot(Y, '.', label='Y')\n",
    "plt.legend()"
   ]
  },
  {
   "cell_type": "code",
   "execution_count": 8,
   "metadata": {},
   "outputs": [
    {
     "data": {
      "text/plain": [
       "[<matplotlib.lines.Line2D at 0x7ff00e5cb220>]"
      ]
     },
     "execution_count": 8,
     "metadata": {},
     "output_type": "execute_result"
    },
    {
     "data": {
      "image/png": "[encoded data removed]",
      "text/plain": [
       "<Figure size 432x288 with 1 Axes>"
      ]
     },
     "metadata": {
      "needs_background": "light"
     },
     "output_type": "display_data"
    }
   ],
   "source": [
    "plt.plot(Y[:, 0], T[:, 0], 'o')\n",
    "plt.xlabel('Predicted')\n",
    "plt.ylabel('Actual')\n",
    "a = max(min(Y[:, 0]), min(T[:, 0]))\n",
    "b = min(max(Y[:, 0]), max(T[:, 0]))\n",
    "plt.plot([a, b], [a, b], 'r', linewidth=3)"
   ]
  },
  {
   "cell_type": "code",
   "execution_count": 9,
   "metadata": {},
   "outputs": [],
   "source": [
    "## Weather Data"
   ]
  },
  {
   "cell_type": "markdown",
   "metadata": {},
   "source": [
    "Now that your functions are working, we can apply them to some real data. We will use data\n",
    "from  [CSU's CoAgMet Station Daily Data Access](http://coagmet.colostate.edu/cgi-bin/dailydata_form.pl).\n",
    "\n",
    "You can get the data file [here](http://www.cs.colostate.edu/~cs445/notebooks/A1_data.txt)"
   ]
  },
  {
   "cell_type": "markdown",
   "metadata": {},
   "source": [
    "## 5 points:\n",
    "\n",
    "Read in the data into variable `df` using `pandas.read_csv` like we did in lecture notes.\n",
    "Missing values in this dataset are indicated by the string `'***'`."
   ]
  },
  {
   "cell_type": "code",
   "execution_count": 10,
   "metadata": {},
   "outputs": [
    {
     "data": {
      "text/html": [
       "<div>\n",
       "<style scoped>\n",
       "    .dataframe tbody tr th:only-of-type {\n",
       "        vertical-align: middle;\n",
       "    }\n",
       "\n",
       "    .dataframe tbody tr th {\n",
       "        vertical-align: top;\n",
       "    }\n",
       "\n",
       "    .dataframe thead th {\n",
       "        text-align: right;\n",
       "    }\n",
       "</style>\n",
       "<table border=\"1\" class=\"dataframe\">\n",
       "  <thead>\n",
       "    <tr style=\"text-align: right;\">\n",
       "      <th></th>\n",
       "      <th>0</th>\n",
       "      <th>1</th>\n",
       "      <th>2</th>\n",
       "      <th>3</th>\n",
       "      <th>4</th>\n",
       "      <th>5</th>\n",
       "      <th>6</th>\n",
       "      <th>7</th>\n",
       "      <th>8</th>\n",
       "      <th>9</th>\n",
       "      <th>...</th>\n",
       "      <th>20</th>\n",
       "      <th>21</th>\n",
       "      <th>22</th>\n",
       "      <th>23</th>\n",
       "      <th>24</th>\n",
       "      <th>25</th>\n",
       "      <th>26</th>\n",
       "      <th>27</th>\n",
       "      <th>28</th>\n",
       "      <th>29</th>\n",
       "    </tr>\n",
       "  </thead>\n",
       "  <tbody>\n",
       "    <tr>\n",
       "      <th>0</th>\n",
       "      <td>Year</td>\n",
       "      <td>Mo</td>\n",
       "      <td>Dy</td>\n",
       "      <td>tave</td>\n",
       "      <td>tmax</td>\n",
       "      <td>mxtm</td>\n",
       "      <td>tmin</td>\n",
       "      <td>mntm</td>\n",
       "      <td>vp</td>\n",
       "      <td>rhmax</td>\n",
       "      <td>...</td>\n",
       "      <td>st15mx</td>\n",
       "      <td>st15mxtm</td>\n",
       "      <td>st15mn</td>\n",
       "      <td>st15mntm</td>\n",
       "      <td>volts</td>\n",
       "      <td>year</td>\n",
       "      <td>gust</td>\n",
       "      <td>gusttm</td>\n",
       "      <td>gusdir</td>\n",
       "      <td>etr_asce</td>\n",
       "    </tr>\n",
       "    <tr>\n",
       "      <th>1</th>\n",
       "      <td>2019</td>\n",
       "      <td>1</td>\n",
       "      <td>1</td>\n",
       "      <td>-13.535</td>\n",
       "      <td>-10.073</td>\n",
       "      <td>14:10</td>\n",
       "      <td>-16.997</td>\n",
       "      <td>23:50</td>\n",
       "      <td>0.153</td>\n",
       "      <td>0.830</td>\n",
       "      <td>...</td>\n",
       "      <td>-1.803</td>\n",
       "      <td>00:00</td>\n",
       "      <td>-3.195</td>\n",
       "      <td>23:00</td>\n",
       "      <td>NaN</td>\n",
       "      <td>2019.000</td>\n",
       "      <td>5.155</td>\n",
       "      <td>08:10</td>\n",
       "      <td>NaN</td>\n",
       "      <td>0.324</td>\n",
       "    </tr>\n",
       "    <tr>\n",
       "      <th>2</th>\n",
       "      <td>2019</td>\n",
       "      <td>1</td>\n",
       "      <td>2</td>\n",
       "      <td>-5.791</td>\n",
       "      <td>6.010</td>\n",
       "      <td>14:50</td>\n",
       "      <td>-17.591</td>\n",
       "      <td>04:00</td>\n",
       "      <td>0.209</td>\n",
       "      <td>0.839</td>\n",
       "      <td>...</td>\n",
       "      <td>-2.941</td>\n",
       "      <td>19:00</td>\n",
       "      <td>-4.802</td>\n",
       "      <td>11:00</td>\n",
       "      <td>NaN</td>\n",
       "      <td>2019.000</td>\n",
       "      <td>4.332</td>\n",
       "      <td>11:50</td>\n",
       "      <td>NaN</td>\n",
       "      <td>0.521</td>\n",
       "    </tr>\n",
       "    <tr>\n",
       "      <th>3</th>\n",
       "      <td>2019</td>\n",
       "      <td>1</td>\n",
       "      <td>3</td>\n",
       "      <td>1.374</td>\n",
       "      <td>13.444</td>\n",
       "      <td>13:50</td>\n",
       "      <td>-10.696</td>\n",
       "      <td>05:00</td>\n",
       "      <td>0.340</td>\n",
       "      <td>0.836</td>\n",
       "      <td>...</td>\n",
       "      <td>-1.979</td>\n",
       "      <td>22:00</td>\n",
       "      <td>-4.639</td>\n",
       "      <td>10:00</td>\n",
       "      <td>NaN</td>\n",
       "      <td>2019.000</td>\n",
       "      <td>4.096</td>\n",
       "      <td>15:40</td>\n",
       "      <td>NaN</td>\n",
       "      <td>0.729</td>\n",
       "    </tr>\n",
       "    <tr>\n",
       "      <th>4</th>\n",
       "      <td>2019</td>\n",
       "      <td>1</td>\n",
       "      <td>4</td>\n",
       "      <td>4.544</td>\n",
       "      <td>15.089</td>\n",
       "      <td>14:40</td>\n",
       "      <td>-6.000</td>\n",
       "      <td>06:00</td>\n",
       "      <td>0.429</td>\n",
       "      <td>0.815</td>\n",
       "      <td>...</td>\n",
       "      <td>-0.963</td>\n",
       "      <td>23:00</td>\n",
       "      <td>-2.768</td>\n",
       "      <td>10:00</td>\n",
       "      <td>NaN</td>\n",
       "      <td>2019.000</td>\n",
       "      <td>4.096</td>\n",
       "      <td>12:30</td>\n",
       "      <td>NaN</td>\n",
       "      <td>0.893</td>\n",
       "    </tr>\n",
       "    <tr>\n",
       "      <th>...</th>\n",
       "      <td>...</td>\n",
       "      <td>...</td>\n",
       "      <td>...</td>\n",
       "      <td>...</td>\n",
       "      <td>...</td>\n",
       "      <td>...</td>\n",
       "      <td>...</td>\n",
       "      <td>...</td>\n",
       "      <td>...</td>\n",
       "      <td>...</td>\n",
       "      <td>...</td>\n",
       "      <td>...</td>\n",
       "      <td>...</td>\n",
       "      <td>...</td>\n",
       "      <td>...</td>\n",
       "      <td>...</td>\n",
       "      <td>...</td>\n",
       "      <td>...</td>\n",
       "      <td>...</td>\n",
       "      <td>...</td>\n",
       "      <td>...</td>\n",
       "    </tr>\n",
       "    <tr>\n",
       "      <th>361</th>\n",
       "      <td>2019</td>\n",
       "      <td>12</td>\n",
       "      <td>27</td>\n",
       "      <td>-1.493</td>\n",
       "      <td>2.260</td>\n",
       "      <td>14:40</td>\n",
       "      <td>-5.245</td>\n",
       "      <td>07:30</td>\n",
       "      <td>0.403</td>\n",
       "      <td>0.908</td>\n",
       "      <td>...</td>\n",
       "      <td>0.308</td>\n",
       "      <td>06:00</td>\n",
       "      <td>0.257</td>\n",
       "      <td>14:00</td>\n",
       "      <td>NaN</td>\n",
       "      <td>2019.000</td>\n",
       "      <td>4.469</td>\n",
       "      <td>16:00</td>\n",
       "      <td>NaN</td>\n",
       "      <td>0.473</td>\n",
       "    </tr>\n",
       "    <tr>\n",
       "      <th>362</th>\n",
       "      <td>2019</td>\n",
       "      <td>12</td>\n",
       "      <td>28</td>\n",
       "      <td>-2.695</td>\n",
       "      <td>-1.102</td>\n",
       "      <td>01:50</td>\n",
       "      <td>-4.288</td>\n",
       "      <td>07:00</td>\n",
       "      <td>0.363</td>\n",
       "      <td>0.973</td>\n",
       "      <td>...</td>\n",
       "      <td>0.298</td>\n",
       "      <td>20:00</td>\n",
       "      <td>0.264</td>\n",
       "      <td>10:00</td>\n",
       "      <td>NaN</td>\n",
       "      <td>2019.000</td>\n",
       "      <td>10.623</td>\n",
       "      <td>12:20</td>\n",
       "      <td>NaN</td>\n",
       "      <td>0.681</td>\n",
       "    </tr>\n",
       "    <tr>\n",
       "      <th>363</th>\n",
       "      <td>2019</td>\n",
       "      <td>12</td>\n",
       "      <td>29</td>\n",
       "      <td>-3.731</td>\n",
       "      <td>1.871</td>\n",
       "      <td>13:30</td>\n",
       "      <td>-9.333</td>\n",
       "      <td>22:40</td>\n",
       "      <td>0.221</td>\n",
       "      <td>0.690</td>\n",
       "      <td>...</td>\n",
       "      <td>0.288</td>\n",
       "      <td>00:00</td>\n",
       "      <td>0.219</td>\n",
       "      <td>23:00</td>\n",
       "      <td>NaN</td>\n",
       "      <td>2019.000</td>\n",
       "      <td>11.486</td>\n",
       "      <td>07:10</td>\n",
       "      <td>NaN</td>\n",
       "      <td>1.039</td>\n",
       "    </tr>\n",
       "    <tr>\n",
       "      <th>364</th>\n",
       "      <td>2019</td>\n",
       "      <td>12</td>\n",
       "      <td>30</td>\n",
       "      <td>-5.427</td>\n",
       "      <td>1.293</td>\n",
       "      <td>13:40</td>\n",
       "      <td>-12.147</td>\n",
       "      <td>06:20</td>\n",
       "      <td>0.226</td>\n",
       "      <td>0.833</td>\n",
       "      <td>...</td>\n",
       "      <td>0.200</td>\n",
       "      <td>00:00</td>\n",
       "      <td>-0.150</td>\n",
       "      <td>23:00</td>\n",
       "      <td>NaN</td>\n",
       "      <td>2019.000</td>\n",
       "      <td>4.586</td>\n",
       "      <td>14:30</td>\n",
       "      <td>NaN</td>\n",
       "      <td>0.504</td>\n",
       "    </tr>\n",
       "    <tr>\n",
       "      <th>365</th>\n",
       "      <td>2019</td>\n",
       "      <td>12</td>\n",
       "      <td>31</td>\n",
       "      <td>-4.175</td>\n",
       "      <td>4.810</td>\n",
       "      <td>13:10</td>\n",
       "      <td>-13.160</td>\n",
       "      <td>06:50</td>\n",
       "      <td>0.247</td>\n",
       "      <td>0.862</td>\n",
       "      <td>...</td>\n",
       "      <td>-0.174</td>\n",
       "      <td>00:00</td>\n",
       "      <td>-0.917</td>\n",
       "      <td>13:00</td>\n",
       "      <td>NaN</td>\n",
       "      <td>2019.000</td>\n",
       "      <td>5.566</td>\n",
       "      <td>18:40</td>\n",
       "      <td>NaN</td>\n",
       "      <td>0.503</td>\n",
       "    </tr>\n",
       "  </tbody>\n",
       "</table>\n",
       "<p>366 rows × 30 columns</p>\n",
       "</div>"
      ],
      "text/plain": [
       "       0   1   2        3        4      5        6      7      8      9   ...  \\\n",
       "0    Year  Mo  Dy     tave     tmax   mxtm     tmin   mntm     vp  rhmax  ...   \n",
       "1    2019   1   1  -13.535  -10.073  14:10  -16.997  23:50  0.153  0.830  ...   \n",
       "2    2019   1   2   -5.791    6.010  14:50  -17.591  04:00  0.209  0.839  ...   \n",
       "3    2019   1   3    1.374   13.444  13:50  -10.696  05:00  0.340  0.836  ...   \n",
       "4    2019   1   4    4.544   15.089  14:40   -6.000  06:00  0.429  0.815  ...   \n",
       "..    ...  ..  ..      ...      ...    ...      ...    ...    ...    ...  ...   \n",
       "361  2019  12  27   -1.493    2.260  14:40   -5.245  07:30  0.403  0.908  ...   \n",
       "362  2019  12  28   -2.695   -1.102  01:50   -4.288  07:00  0.363  0.973  ...   \n",
       "363  2019  12  29   -3.731    1.871  13:30   -9.333  22:40  0.221  0.690  ...   \n",
       "364  2019  12  30   -5.427    1.293  13:40  -12.147  06:20  0.226  0.833  ...   \n",
       "365  2019  12  31   -4.175    4.810  13:10  -13.160  06:50  0.247  0.862  ...   \n",
       "\n",
       "         20        21      22        23     24        25      26      27  \\\n",
       "0    st15mx  st15mxtm  st15mn  st15mntm  volts      year    gust  gusttm   \n",
       "1    -1.803     00:00  -3.195     23:00    NaN  2019.000   5.155   08:10   \n",
       "2    -2.941     19:00  -4.802     11:00    NaN  2019.000   4.332   11:50   \n",
       "3    -1.979     22:00  -4.639     10:00    NaN  2019.000   4.096   15:40   \n",
       "4    -0.963     23:00  -2.768     10:00    NaN  2019.000   4.096   12:30   \n",
       "..      ...       ...     ...       ...    ...       ...     ...     ...   \n",
       "361   0.308     06:00   0.257     14:00    NaN  2019.000   4.469   16:00   \n",
       "362   0.298     20:00   0.264     10:00    NaN  2019.000  10.623   12:20   \n",
       "363   0.288     00:00   0.219     23:00    NaN  2019.000  11.486   07:10   \n",
       "364   0.200     00:00  -0.150     23:00    NaN  2019.000   4.586   14:30   \n",
       "365  -0.174     00:00  -0.917     13:00    NaN  2019.000   5.566   18:40   \n",
       "\n",
       "         28        29  \n",
       "0    gusdir  etr_asce  \n",
       "1       NaN     0.324  \n",
       "2       NaN     0.521  \n",
       "3       NaN     0.729  \n",
       "4       NaN     0.893  \n",
       "..      ...       ...  \n",
       "361     NaN     0.473  \n",
       "362     NaN     0.681  \n",
       "363     NaN     1.039  \n",
       "364     NaN     0.504  \n",
       "365     NaN     0.503  \n",
       "\n",
       "[366 rows x 30 columns]"
      ]
     },
     "execution_count": 10,
     "metadata": {},
     "output_type": "execute_result"
    }
   ],
   "source": [
    "import pandas\n",
    "df = pandas.read_csv('A1_data.txt', header=None, delim_whitespace=True, na_values='***')\n",
    "df"
   ]
  },
  {
   "cell_type": "markdown",
   "metadata": {},
   "source": [
    "## 5 points:\n",
    "\n",
    "Check for missing values by showing the number of NA values, as shown in lecture notes."
   ]
  },
  {
   "cell_type": "code",
   "execution_count": 11,
   "metadata": {},
   "outputs": [
    {
     "data": {
      "text/plain": [
       "0       0\n",
       "1       0\n",
       "2       0\n",
       "3       0\n",
       "4       0\n",
       "5       0\n",
       "6       0\n",
       "7       0\n",
       "8       0\n",
       "9       0\n",
       "10      0\n",
       "11      0\n",
       "12      0\n",
       "13      0\n",
       "14      0\n",
       "15      0\n",
       "16    211\n",
       "17    211\n",
       "18    211\n",
       "19    211\n",
       "20      0\n",
       "21      0\n",
       "22      0\n",
       "23      0\n",
       "24    365\n",
       "25      0\n",
       "26      0\n",
       "27      0\n",
       "28    365\n",
       "29      0\n",
       "dtype: int64"
      ]
     },
     "execution_count": 11,
     "metadata": {},
     "output_type": "execute_result"
    }
   ],
   "source": [
    "df.isna().sum()"
   ]
  },
  {
   "cell_type": "markdown",
   "metadata": {},
   "source": [
    "## 5 points:\n",
    "\n",
    "If there are missing values, remove either samples or features that contain missing values. Prove that you\n",
    "were successful by counting the number of missing values now, which should be zero."
   ]
  },
  {
   "cell_type": "code",
   "execution_count": 12,
   "metadata": {},
   "outputs": [
    {
     "data": {
      "text/plain": [
       "0     0\n",
       "1     0\n",
       "2     0\n",
       "3     0\n",
       "4     0\n",
       "5     0\n",
       "6     0\n",
       "7     0\n",
       "8     0\n",
       "9     0\n",
       "10    0\n",
       "11    0\n",
       "12    0\n",
       "13    0\n",
       "14    0\n",
       "15    0\n",
       "20    0\n",
       "21    0\n",
       "22    0\n",
       "23    0\n",
       "25    0\n",
       "26    0\n",
       "27    0\n",
       "29    0\n",
       "dtype: int64"
      ]
     },
     "execution_count": 12,
     "metadata": {},
     "output_type": "execute_result"
    }
   ],
   "source": [
    "df = df.dropna(axis='columns')\n",
    "df.isna().sum()"
   ]
  },
  {
   "cell_type": "markdown",
   "metadata": {},
   "source": [
    "Your job is now to create a linear model that predicts the next day's average temperature (tave) from the previous day's values. A discription of all features can be found [here](https://coagmet.colostate.edu/rawdata_docs.php). To start, consider just focusing on these features: \n",
    "1. tave: average temperature\n",
    "2. tmax: maximum temperature\n",
    "3. tmin: minimum temperature\n",
    "4. vp: vapor pressure\n",
    "5. rhmax: maximum relative humidity\n",
    "6. rhmin: minimum relative humidity\n",
    "7. pp: precipitation\n",
    "8. gust: wind gust speed\n",
    "\n",
    "First, modify the datafile to add a new column: 'next tave' -- here's a hint on your X and T vectors names:"
   ]
  },
  {
   "cell_type": "code",
   "execution_count": 13,
   "metadata": {},
   "outputs": [],
   "source": [
    "Xnames = ['tave', 'tmax', 'tmin', 'vp', 'rhmax', 'rhmin', 'pp', 'gust']\n",
    "Tnames = ['next tave']\n",
    "df.insert(24, 'next tave', 0)"
   ]
  },
  {
   "cell_type": "markdown",
   "metadata": {},
   "source": [
    "## 5 points:\n",
    "\n",
    "Now select those eight columns from `df` and convert the result to a `numpy` array.  (Easier than it sounds.)\n",
    "Then assign `X` to be all columns and all but the last row.  Assign `T` to be just the first column (tave) and all but the first sample.  So now the first row (sample) in `X` is associated with the first row (sample) in `T` which tave for the following day."
   ]
  },
  {
   "cell_type": "code",
   "execution_count": 18,
   "metadata": {},
   "outputs": [
    {
     "data": {
      "text/plain": [
       "((364, 7), (364, 1))"
      ]
     },
     "execution_count": 18,
     "metadata": {},
     "output_type": "execute_result"
    }
   ],
   "source": [
    "tmp = df.to_numpy()\n",
    "arr = tmp[:,[3,4,6,8,9,11,15]]\n",
    "Ttmp = arr[2:,:1]\n",
    "T = Ttmp.astype(np.float)\n",
    "Xtmp = arr[1:-1,:]\n",
    "X = Xtmp.astype(np.float)\n",
    "X.shape, T.shape"
   ]
  },
  {
   "cell_type": "markdown",
   "metadata": {},
   "source": [
    "## 15 points:\n",
    "\n",
    "Use the function `train` to train a model for the `X`\n",
    "and `T` data.  Run it several times with different `learning_rate`\n",
    "and `n_epochs` values to produce decreasing errors. Use the `use`\n",
    "function and plots of `T` versus predicted `Y` values to show how\n",
    "well the model is working.  Type your observations of the plot and of the value of `rmse` to discuss how well the model succeeds."
   ]
  },
  {
   "cell_type": "code",
   "execution_count": 20,
   "metadata": {},
   "outputs": [
    {
     "name": "stdout",
     "output_type": "stream",
     "text": [
      "Epoch 50 RMSE 0.00\n",
      "Epoch 100 RMSE 0.00\n",
      "Epoch 150 RMSE 0.00\n",
      "Epoch 200 RMSE 0.00\n",
      "Epoch 250 RMSE 0.00\n",
      "Epoch 300 RMSE 0.00\n",
      "Epoch 350 RMSE 0.00\n",
      "Epoch 400 RMSE 0.00\n",
      "Epoch 450 RMSE 0.00\n",
      "Epoch 500 RMSE 0.00\n"
     ]
    },
    {
     "data": {
      "text/plain": [
       "<matplotlib.legend.Legend at 0x7ff00f2e4c40>"
      ]
     },
     "execution_count": 20,
     "metadata": {},
     "output_type": "execute_result"
    },
    {
     "data": {
      "image/png": "[encoded data removed]",
      "text/plain": [
       "<Figure size 432x288 with 1 Axes>"
      ]
     },
     "metadata": {
      "needs_background": "light"
     },
     "output_type": "display_data"
    }
   ],
   "source": [
    "model = train(X, T, 0.01, 500, verbose=True)\n",
    "Y = use(X, model)\n",
    "plt.plot(T, '.', label='T')\n",
    "plt.plot(Y, '.', label='Y')\n",
    "plt.legend()"
   ]
  },
  {
   "cell_type": "markdown",
   "metadata": {},
   "source": [
    "## 5 points:\n",
    "\n",
    "Print the weight values in the resulting model along with their corresponding variable names (in `Xnames`). Use the relative magnitude\n",
    "of the weight values to discuss which input variables are most significant in predicting the changes in the tave values."
   ]
  },
  {
   "cell_type": "code",
   "execution_count": 21,
   "metadata": {},
   "outputs": [
    {
     "name": "stdout",
     "output_type": "stream",
     "text": [
      "['tave', 'tmax', 'tmin', 'vp', 'rhmax', 'rhmin', 'pp', 'gust']\n",
      "[[-0.00635592]\n",
      " [ 0.21351119]\n",
      " [ 0.29660139]\n",
      " [ 0.09858734]\n",
      " [ 0.4010158 ]\n",
      " [-0.03505392]\n",
      " [-0.01230819]\n",
      " [ 0.02732473]]\n"
     ]
    }
   ],
   "source": [
    "print(Xnames)\n",
    "print(model['w'])"
   ]
  },
  {
   "cell_type": "markdown",
   "metadata": {},
   "source": [
    "## Grading and Check-in\n",
    "\n",
    "Your notebook will be partially graded automatically.  You can test this grading process yourself by downloading [A1grader.zip](https://www.cs.colostate.edu/~cs445/notebooks/A1grader.zip) and extract `A1grader.py` parallel to this notebook.  Run the code in the in the following cell to see an example grading run.  If your functions are defined correctly, you should see a score of 60/60.  The remaining 40 points are based on testing other data and your discussion."
   ]
  },
  {
   "cell_type": "code",
   "execution_count": null,
   "metadata": {},
   "outputs": [],
   "source": [
    "%run -i A1grader.py"
   ]
  },
  {
   "cell_type": "markdown",
   "metadata": {},
   "source": [
    "A different but similar grading script will be used to grade yout checked-in notebook.  It will include different tests.\n",
    "\n",
    "You must name your notebook as `Lastname-A1.ipynb` with `Lastname` being your last name, and then save this notebook and check it in at the A1 assignment link in our Canvas web page."
   ]
  },
  {
   "cell_type": "markdown",
   "metadata": {},
   "source": [
    "## Extra Credit: 1 point"
   ]
  },
  {
   "cell_type": "markdown",
   "metadata": {},
   "source": [
    "A typical problem when predicting the next value in a time series is\n",
    "that the best solution may be to predict the previous value.  The\n",
    "predicted value will look a lot like the input tave value shifted on\n",
    "time step later.\n",
    "\n",
    "To do better, try predicting the change in tave from one day to the next. `T` can be assigned as"
   ]
  },
  {
   "cell_type": "code",
   "execution_count": null,
   "metadata": {},
   "outputs": [],
   "source": [
    "T = data[1:, 0:1] -  data[:-1, 0:1]"
   ]
  },
  {
   "cell_type": "markdown",
   "metadata": {},
   "source": [
    "Now repeat the training experiments to pick good `learning_rate` and\n",
    "`n_epochs`.  Use predicted values to produce next day tave values by\n",
    "adding the predicted values to the previous day's tave.  Use `rmse`\n",
    "to determine if this way of predicting next tave is better than\n",
    "directly predicting tave."
   ]
  }
 ],
 "metadata": {
  "jupytext": {
   "formats": "ipynb,py"
  },
  "kernelspec": {
   "display_name": "Python 3",
   "language": "python",
   "name": "python3"
  },
  "language_info": {
   "codemirror_mode": {
    "name": "ipython",
    "version": 3
   },
   "file_extension": ".py",
   "mimetype": "text/x-python",
   "name": "python",
   "nbconvert_exporter": "python",
   "pygments_lexer": "ipython3",
   "version": "3.8.5"
  }
 },
 "nbformat": 4,
 "nbformat_minor": 2
}
